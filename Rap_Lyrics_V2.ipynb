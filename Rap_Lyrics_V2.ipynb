{
 "metadata": {
  "name": "",
  "signature": "sha256:9cb0464a567b14a721f11d605f9703c59b8f6b6af3beaab740efb895cb82a16c"
 },
 "nbformat": 3,
 "nbformat_minor": 0,
 "worksheets": [
  {
   "cells": [
    {
     "cell_type": "code",
     "collapsed": false,
     "input": [
      "import theano\n",
      "import theano.tensor as T\n",
      "import numpy as np\n",
      "\n",
      "from RNN import RNN\n",
      "from RNN import create_vocab_mapping\n",
      "from RNN import one_hot\n",
      "from RNN import seq_2_mat\n",
      "\n",
      "theano.config.exception_verbosity=\"high\""
     ],
     "language": "python",
     "metadata": {},
     "outputs": [],
     "prompt_number": 1
    },
    {
     "cell_type": "code",
     "collapsed": false,
     "input": [
      "vocab_map = create_vocab_mapping('data/v3.txt')\n",
      "\n",
      "y = T.imatrix()\n",
      "x = T.matrix()\n",
      "\n",
      "RNN = RNN(vocab_size=len(vocab_map), x=x)\n",
      "\n",
      "predict_prob = theano.function(inputs=[x],\n",
      "                               outputs=RNN.prob)\n",
      "predict = theano.function(inputs=[x],\n",
      "                          outputs=RNN.y_out)\n",
      "\n",
      "\n",
      "cost = RNN.loss(y)\n",
      "\n",
      "gparams = [T.grad(cost, param) for param in RNN.params]\n",
      "\n",
      "learning_rate = 0.01\n",
      "updates = [(param, param + learning_rate * gparam) for param, gparam in zip(RNN.params, gparams)]"
     ],
     "language": "python",
     "metadata": {},
     "outputs": [
      {
       "output_type": "stream",
       "stream": "stdout",
       "text": [
        "TensorType(float64, vector)\n",
        "TensorType(float64, matrix)\n",
        "TensorType(float64, matrix)\n",
        "TensorType(float64, matrix)\n",
        "TensorType(int64, vector)\n"
       ]
      },
      {
       "output_type": "stream",
       "stream": "stderr",
       "text": [
        "/usr/local/lib/python2.7/dist-packages/theano/scan_module/scan_perform_ext.py:85: RuntimeWarning: numpy.ndarray size changed, may indicate binary incompatibility\n",
        "  from scan_perform.scan_perform import *\n"
       ]
      }
     ],
     "prompt_number": 2
    },
    {
     "cell_type": "code",
     "collapsed": false,
     "input": [
      "index = T.iscalar('index')\n",
      "\n",
      "train_x = theano.shared(value=seq_2_mat(\"the cat sat on the mat and the hat was made out of rats\", vocab_map), name=\"train_x\", borrow=True)\n",
      "#train_y = T.cast(theano.shared(value=seq_2_mat(\"he cat sat on the mat and the hat was made out of rats.\", vocab_map), name=\"train_y\", borrow=True), 'int64')\n",
      "train_y = T.cast(theano.shared(value=np.asarray([vocab_map[char] for char in \"he cat sat on the mat and the hat was made out of rats.\"]), name=\"train_y\", borrow=True), 'int64')\n",
      "\n",
      "get_cost = theano.function(inputs=[x,y],\n",
      "                              outputs=cost,\n",
      "                              updates=updates,\n",
      "                              )\n"
     ],
     "language": "python",
     "metadata": {},
     "outputs": [],
     "prompt_number": 3
    },
    {
     "cell_type": "code",
     "collapsed": false,
     "input": [
      "train_y.type"
     ],
     "language": "python",
     "metadata": {},
     "outputs": [
      {
       "metadata": {},
       "output_type": "pyout",
       "prompt_number": 16,
       "text": [
        "TensorType(int64, vector)"
       ]
      }
     ],
     "prompt_number": 16
    },
    {
     "cell_type": "code",
     "collapsed": false,
     "input": [
      "get_cost(seq_2_mat(\"test\", vocab_map), seq_2_mat(\"est \", vocab_map, dtype=np.int32))"
     ],
     "language": "python",
     "metadata": {},
     "outputs": [
      {
       "metadata": {},
       "output_type": "pyout",
       "prompt_number": 16,
       "text": [
        "array(-3.632536891830471)"
       ]
      }
     ],
     "prompt_number": 16
    },
    {
     "cell_type": "code",
     "collapsed": false,
     "input": [
      "for param in gparams:\n",
      "    print(param.type)"
     ],
     "language": "python",
     "metadata": {},
     "outputs": [
      {
       "output_type": "stream",
       "stream": "stdout",
       "text": [
        "TensorType(float64, vector)\n",
        "TensorType(float64, vector)\n",
        "TensorType(float64, vector)\n",
        "TensorType(float64, matrix)\n"
       ]
      }
     ],
     "prompt_number": 5
    },
    {
     "cell_type": "code",
     "collapsed": false,
     "input": [
      "np.asarray([vocab_map[char] for char in \"hello\"])"
     ],
     "language": "python",
     "metadata": {},
     "outputs": [
      {
       "metadata": {},
       "output_type": "pyout",
       "prompt_number": 6,
       "text": [
        "array([15,  9, 27, 27, 12])"
       ]
      }
     ],
     "prompt_number": 6
    },
    {
     "cell_type": "code",
     "collapsed": false,
     "input": [
      "predict(seq_2_mat(\"test\", vocab_map))"
     ],
     "language": "python",
     "metadata": {},
     "outputs": [
      {
       "metadata": {},
       "output_type": "pyout",
       "prompt_number": 18,
       "text": [
        "array([ 5, 23,  5,  5])"
       ]
      }
     ],
     "prompt_number": 18
    },
    {
     "cell_type": "code",
     "collapsed": false,
     "input": [
      "vocab_map['s']"
     ],
     "language": "python",
     "metadata": {},
     "outputs": [
      {
       "metadata": {},
       "output_type": "pyout",
       "prompt_number": 21,
       "text": [
        "23"
       ]
      }
     ],
     "prompt_number": 21
    },
    {
     "cell_type": "code",
     "collapsed": false,
     "input": [],
     "language": "python",
     "metadata": {},
     "outputs": []
    }
   ],
   "metadata": {}
  }
 ]
}